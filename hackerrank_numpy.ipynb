{
 "cells": [
  {
   "cell_type": "code",
   "execution_count": 1,
   "id": "6fd55c92",
   "metadata": {},
   "outputs": [
    {
     "name": "stdout",
     "output_type": "stream",
     "text": [
      "1 2 3 4 5 6 7 8 9\n",
      "[[1 2 3]\n",
      " [4 5 6]\n",
      " [7 8 9]]\n"
     ]
    }
   ],
   "source": [
    "#reshape problem\n",
    "import numpy\n",
    "arr = input().strip().split()\n",
    "#print(result)\n",
    "\n",
    "array1=numpy.array(arr,int)\n",
    "reshape_array1=numpy.reshape(array1,(3,3))\n",
    "print(reshape_array1)"
   ]
  },
  {
   "cell_type": "code",
   "execution_count": 2,
   "id": "274887bf",
   "metadata": {},
   "outputs": [
    {
     "name": "stdout",
     "output_type": "stream",
     "text": [
      "1 2 3 4 -8 -10\n",
      "[-10.  -8.   4.   3.   2.   1.]\n"
     ]
    }
   ],
   "source": [
    "#array  input is 1 2 3 4 -8 -10\n",
    "import numpy\n",
    "\n",
    "def arrays(arr):\n",
    "    array1=numpy.array(arr,float)\n",
    "    reverse_array=array1[::-1]\n",
    "    return reverse_array\n",
    "\n",
    "arr = input().strip().split(' ')\n",
    "result = arrays(arr)\n",
    "print(result)"
   ]
  },
  {
   "cell_type": "code",
   "execution_count": 7,
   "id": "26da8d82",
   "metadata": {},
   "outputs": [
    {
     "name": "stdout",
     "output_type": "stream",
     "text": [
      "2 2\n",
      "1 3 \n",
      "4 5\n",
      "[[1 4]\n",
      " [3 5]]\n",
      "[1 3 4 5]\n"
     ]
    }
   ],
   "source": [
    "#treanspose x and flatten\n",
    "import numpy as np\n",
    "\n",
    "n,m=map(int,input().split())\n",
    "array=np.array([input().strip().split() for _ in range(n)],int)\n",
    "print(array.transpose())\n",
    "print(array.flatten())\n"
   ]
  },
  {
   "cell_type": "code",
   "execution_count": 6,
   "id": "4ba1538c",
   "metadata": {},
   "outputs": [
    {
     "name": "stdout",
     "output_type": "stream",
     "text": [
      "2 2\n"
     ]
    }
   ],
   "source": [
    "n,m=map(int,input().split())"
   ]
  },
  {
   "cell_type": "code",
   "execution_count": 8,
   "id": "059a286b",
   "metadata": {},
   "outputs": [
    {
     "name": "stdout",
     "output_type": "stream",
     "text": [
      "2 2\n",
      "3 4\n",
      "5 6\n",
      "[[3 5]\n",
      " [4 6]]\n",
      "[3 4 5 6]\n"
     ]
    }
   ],
   "source": [
    "#another method\n",
    "import numpy as np\n",
    "\n",
    "n,m=map(int,input().split())\n",
    "array=np.array([input().strip().split() for _ in range(n)],int)\n",
    "transposed_array = np.transpose(array)\n",
    "print(transposed_array)\n",
    "\n",
    "# Reshape the array to flatten it\n",
    "flattened_array = array.reshape(-1)\n",
    "print(flattened_array)"
   ]
  },
  {
   "cell_type": "code",
   "execution_count": 10,
   "id": "e2a28f1d",
   "metadata": {},
   "outputs": [
    {
     "name": "stdout",
     "output_type": "stream",
     "text": [
      "3 2 3\n",
      "1 2 3\n",
      "4 5 6\n",
      "7 8 9\n",
      "10 11 12\n",
      "13 14 15\n",
      "[[ 1  2  3]\n",
      " [ 4  5  6]\n",
      " [ 7  8  9]\n",
      " [10 11 12]\n",
      " [13 14 15]]\n"
     ]
    }
   ],
   "source": [
    "# to concanetate\n",
    "import numpy as np\n",
    "\n",
    "n,m,p=map(int,input().split()) #where n,m,p is n,m :rows,p:column\n",
    "\n",
    "array1=np.array([input().strip().split() for _ in range(n)],int)\n",
    "array2=np.array([input().strip().split() for _ in range(m)],int)\n",
    "conc=np.concatenate((array1,array2),axis=0) #axis=0 (concanetate along  the rows)\n",
    "                                            #axis=1(concat along columns)\n",
    "print(conc)\n"
   ]
  },
  {
   "cell_type": "code",
   "execution_count": 13,
   "id": "2a8e0a1c",
   "metadata": {},
   "outputs": [
    {
     "name": "stdout",
     "output_type": "stream",
     "text": [
      "3 3 3\n",
      "<map object at 0x0000017ECF4733A0>\n"
     ]
    }
   ],
   "source": [
    "array=map(int, input().split())\n",
    "print(array)"
   ]
  },
  {
   "cell_type": "code",
   "execution_count": 14,
   "id": "35295abb",
   "metadata": {},
   "outputs": [
    {
     "name": "stdout",
     "output_type": "stream",
     "text": [
      " 3 3 3\n",
      "[[[0 0 0]\n",
      "  [0 0 0]\n",
      "  [0 0 0]]\n",
      "\n",
      " [[0 0 0]\n",
      "  [0 0 0]\n",
      "  [0 0 0]]\n",
      "\n",
      " [[0 0 0]\n",
      "  [0 0 0]\n",
      "  [0 0 0]]]\n",
      "[[[1 1 1]\n",
      "  [1 1 1]\n",
      "  [1 1 1]]\n",
      "\n",
      " [[1 1 1]\n",
      "  [1 1 1]\n",
      "  [1 1 1]]\n",
      "\n",
      " [[1 1 1]\n",
      "  [1 1 1]\n",
      "  [1 1 1]]]\n"
     ]
    },
    {
     "name": "stderr",
     "output_type": "stream",
     "text": [
      "C:\\Users\\Admin\\AppData\\Local\\Temp/ipykernel_17128/3854832955.py:5: DeprecationWarning: `np.int` is a deprecated alias for the builtin `int`. To silence this warning, use `int` by itself. Doing this will not modify any behavior and is safe. When replacing `np.int`, you may wish to use e.g. `np.int64` or `np.int32` to specify the precision. If you wish to review your current use, check the release note link for additional information.\n",
      "Deprecated in NumPy 1.20; for more details and guidance: https://numpy.org/devdocs/release/1.20.0-notes.html#deprecations\n",
      "  print(numpy.zeros(nums, dtype=numpy.int))\n",
      "C:\\Users\\Admin\\AppData\\Local\\Temp/ipykernel_17128/3854832955.py:6: DeprecationWarning: `np.int` is a deprecated alias for the builtin `int`. To silence this warning, use `int` by itself. Doing this will not modify any behavior and is safe. When replacing `np.int`, you may wish to use e.g. `np.int64` or `np.int32` to specify the precision. If you wish to review your current use, check the release note link for additional information.\n",
      "Deprecated in NumPy 1.20; for more details and guidance: https://numpy.org/devdocs/release/1.20.0-notes.html#deprecations\n",
      "  print(numpy.ones(nums, dtype=numpy.int))\n"
     ]
    }
   ],
   "source": [
    "import numpy \n",
    "\n",
    "nums=tuple(map(int, input().split()))\n",
    "\n",
    "print(numpy.zeros(nums, dtype=numpy.int))\n",
    "print(numpy.ones(nums, dtype=numpy.int))\n",
    "#3,3,3=dimension,rows,columns which 3dimension i.e 3x3 matrix\n",
    "\n"
   ]
  },
  {
   "cell_type": "code",
   "execution_count": 16,
   "id": "7afb590d",
   "metadata": {},
   "outputs": [
    {
     "data": {
      "text/plain": [
       "(3, 3, 3)"
      ]
     },
     "execution_count": 16,
     "metadata": {},
     "output_type": "execute_result"
    }
   ],
   "source": [
    "array=np.zeros((3,3,3))\n",
    "array.shape"
   ]
  },
  {
   "cell_type": "code",
   "execution_count": 17,
   "id": "1ed8fbe9",
   "metadata": {},
   "outputs": [
    {
     "name": "stdout",
     "output_type": "stream",
     "text": [
      "3 3\n",
      "[[ 1.  0.  0.]\n",
      " [ 0.  1.  0.]\n",
      " [ 0.  0.  1.]]\n",
      "[[ 1.  0.  0.]\n",
      " [ 0.  1.  0.]\n",
      " [ 0.  0.  1.]]\n"
     ]
    }
   ],
   "source": [
    "#eye and identity\n",
    "import numpy\n",
    "numpy.set_printoptions(legacy='1.13')\n",
    "array=numpy.eye(*map(int,input().split()))\n",
    "print(array)\n",
    "\n",
    "#identity\n",
    "import numpy\n",
    "print(numpy.identity(3)) #3 is for  dimension 3 X 3\n"
   ]
  },
  {
   "cell_type": "code",
   "execution_count": 18,
   "id": "c3f1cc25",
   "metadata": {},
   "outputs": [
    {
     "name": "stdout",
     "output_type": "stream",
     "text": [
      "1 4\n",
      "1 2 3 4\n",
      "5 6 7 8\n",
      "[[ 6  8 10 12]]\n",
      "[[-4 -4 -4 -4]]\n",
      "[[ 5 12 21 32]]\n",
      "[[0 0 0 0]]\n",
      "[[1 2 3 4]]\n",
      "[[    1    64  2187 65536]]\n"
     ]
    }
   ],
   "source": [
    "#arithmetic \n",
    "import numpy\n",
    "\n",
    "n,m=map(int,input().split())\n",
    "A=numpy.array([input().split() for _ in range(n)],dtype=int)\n",
    "B=numpy.array([input().split() for _ in range(n)],dtype=int)\n",
    "print(A+B,A-B,A*B,A//B,A%B,A**B,sep='\\n')\n",
    "\n",
    "\n"
   ]
  },
  {
   "cell_type": "code",
   "execution_count": 19,
   "id": "6fcd8329",
   "metadata": {},
   "outputs": [
    {
     "name": "stdout",
     "output_type": "stream",
     "text": [
      "[[ 1.  2.  3.  4.  5.  6.  7.  8.  9.]]\n",
      "[[  2.   3.   4.   5.   6.   7.   8.   9.  10.]]\n",
      "[[  1.   2.   3.   4.   6.   7.   8.   9.  10.]]\n"
     ]
    }
   ],
   "source": [
    "#floor ciel \n",
    "my_array=numpy.array([[1.1, 2.2, 3.3, 4.4, 5.5, 6.6, 7.7, 8.8, 9.9]])\n",
    "print(numpy.floor(my_array) )#[ 1.  2.  3.  4.  5.  6.  7.  8.  9.]\n",
    "print(numpy.ceil(my_array) ) ##[  2.   3.   4.   5.   6.   7.   8.   9.  10.]\n",
    "print(numpy.rint(my_array) ) ##[  1.   2.   3.   4.   6.   7.   8.   9.  10.]"
   ]
  },
  {
   "cell_type": "markdown",
   "id": "e57e8fe4",
   "metadata": {},
   "source": [
    "The tool ceil returns the ceiling of the input element-wise.The ceiling of   x is the smallest integer  where .i>x\n",
    "The rint tool rounds to the nearest integer of input element-wise.\n"
   ]
  },
  {
   "cell_type": "code",
   "execution_count": 23,
   "id": "bc824bcf",
   "metadata": {},
   "outputs": [
    {
     "name": "stdout",
     "output_type": "stream",
     "text": [
      "1 2 3 4\n",
      "<map object at 0x0000017ECE06BFD0>\n"
     ]
    }
   ],
   "source": [
    "array=map(int,input().split())\n",
    "print(array)"
   ]
  },
  {
   "cell_type": "code",
   "execution_count": 27,
   "id": "e09d2ed7",
   "metadata": {},
   "outputs": [
    {
     "name": "stdout",
     "output_type": "stream",
     "text": [
      "1.1 2.2 3.3\n",
      "[ 1.1  2.2  3.3]\n"
     ]
    }
   ],
   "source": [
    "array=numpy.array(input().split(),float)\n",
    "print(array)"
   ]
  },
  {
   "cell_type": "code",
   "execution_count": 3,
   "id": "00178654",
   "metadata": {},
   "outputs": [
    {
     "name": "stdout",
     "output_type": "stream",
     "text": [
      "1.1 2.2 3.3 4.4 5.5 6.6 7.7 8.8 9.9\n",
      "[ 1.  2.  3.  4.  5.  6.  7.  8.  9.]\n",
      "[  2.   3.   4.   5.   6.   7.   8.   9.  10.]\n",
      "[  1.   2.   3.   4.   6.   7.   8.   9.  10.]\n"
     ]
    }
   ],
   "source": [
    "import numpy #1.1 2.2 3.3 4.4 5.5 6.6 7.7 8.8 9.9\n",
    "numpy.set_printoptions(legacy='1.13')\n",
    "array=numpy.array(input().split(),float)\n",
    "array_floor=numpy.floor(array)\n",
    "array_ceil=numpy.ceil(array)\n",
    "array_rint=numpy.rint(array)\n",
    "print(array_floor,array_ceil,array_rint,sep='\\n')\n",
    "\n",
    "\n",
    "\n"
   ]
  },
  {
   "cell_type": "code",
   "execution_count": 2,
   "id": "a01e12ef",
   "metadata": {},
   "outputs": [
    {
     "name": "stdout",
     "output_type": "stream",
     "text": [
      "2 2\n",
      "1 2\n",
      "3 4\n",
      "24\n"
     ]
    }
   ],
   "source": [
    "#sum and prod axis=0-column wise operation axis=1-row wise operation performed\n",
    "import numpy\n",
    "\n",
    "n,m=map(int,input().split())\n",
    "array=numpy.array([input().split() for _ in range(n)],int) #The sum along axis 0 = [4 6 ]\n",
    "                                                             #The product of this sum = 24\n",
    "print(numpy.prod(numpy.sum(array,axis=0),axis=None))"
   ]
  },
  {
   "cell_type": "code",
   "execution_count": 5,
   "id": "a0cca652",
   "metadata": {},
   "outputs": [
    {
     "name": "stdout",
     "output_type": "stream",
     "text": [
      "4 2\n",
      "3 5\n",
      "2 7\n",
      "1 3\n",
      "4 0\n",
      "3\n"
     ]
    }
   ],
   "source": [
    "#min and max\n",
    "import numpy as np\n",
    "\n",
    "n,m=map(int,input().split())\n",
    "array=np.array([input().split() for _ in range(n)],int)\n",
    "print(np.max(np.min(array,axis=1)))\n",
    "'''\n",
    "4 2\n",
    "3 5\n",
    "2 7\n",
    "1 3\n",
    "4 0'''"
   ]
  },
  {
   "cell_type": "code",
   "execution_count": 9,
   "id": "2165bf1a",
   "metadata": {},
   "outputs": [
    {
     "name": "stdout",
     "output_type": "stream",
     "text": [
      "[1 0]\n",
      "[2 3 1 0]\n",
      "0\n",
      "0\n"
     ]
    }
   ],
   "source": [
    "import numpy\n",
    "my_array = numpy.array([[2, 5], \n",
    "                        [3, 7],\n",
    "                        [1, 3],\n",
    "                        [4, 0]])\n",
    "\n",
    "print (numpy.min(my_array, axis = 0))         #Output : [1 0]\n",
    "print (numpy.min(my_array, axis = 1))         #Output : [2 3 1 0]\n",
    "print (numpy.min(my_array, axis = None) )     #Output : 0\n",
    "print (numpy.min(my_array))                   #Output : 0"
   ]
  },
  {
   "cell_type": "markdown",
   "id": "40c04000",
   "metadata": {},
   "source": [
    "#Task\n",
    "\n",
    "You are given a 2-D array of size nxm.\n",
    "Your task is to find:\n",
    "\n",
    "The mean along axis 1 \n",
    "The var along axis 0\n",
    "The std along axis none\n"
   ]
  },
  {
   "cell_type": "code",
   "execution_count": 10,
   "id": "e7ac0484",
   "metadata": {},
   "outputs": [
    {
     "name": "stdout",
     "output_type": "stream",
     "text": [
      "2 2 \n",
      "1 2\n",
      "3 4\n",
      "[ 1.5  3.5]\n",
      "[ 1.  1.]\n",
      "1.11803398875\n"
     ]
    }
   ],
   "source": [
    "#import numpy as np   #2 2 1 2 3 4\n",
    "\n",
    "n,m=map(int,input().split())\n",
    "array1=np.array([input().split() for _ in range(n)], int)\n",
    "print(np.mean(array1,axis=1))\n",
    "print(np.var(array1,axis=0))\n",
    "std_array=np.std(array1,axis=None)\n",
    "print(round(std_array,11))\n"
   ]
  },
  {
   "cell_type": "code",
   "execution_count": 11,
   "id": "f4530fa6",
   "metadata": {},
   "outputs": [
    {
     "name": "stdout",
     "output_type": "stream",
     "text": [
      "2\n",
      "1 2\n",
      "3 4\n",
      "1 2\n",
      "3 4\n",
      "[[ 7 10]\n",
      " [15 22]]\n"
     ]
    }
   ],
   "source": [
    "#matrix multiplication #2 1 2 3 4 1 2 3 4\n",
    "#print numpy.dot(A, B)       #Output : 11\n",
    "#print numpy.cross(A, B)     #Output : -2\n",
    "import numpy as np\n",
    "\n",
    "n=int(input())\n",
    "A=np.array([input().split() for _ in range(n)],int)\n",
    "B=np.array([input().split() for _ in range(n)],int)\n",
    "print(np.matmul(A,B))\n"
   ]
  },
  {
   "cell_type": "code",
   "execution_count": 12,
   "id": "59b6a955",
   "metadata": {},
   "outputs": [
    {
     "ename": "SyntaxError",
     "evalue": "invalid syntax (Temp/ipykernel_11852/2341372396.py, line 7)",
     "output_type": "error",
     "traceback": [
      "\u001b[1;36m  File \u001b[1;32m\"C:\\Users\\Admin\\AppData\\Local\\Temp/ipykernel_11852/2341372396.py\"\u001b[1;36m, line \u001b[1;32m7\u001b[0m\n\u001b[1;33m    print numpy.inner(A, B)     #Output : 4\u001b[0m\n\u001b[1;37m          ^\u001b[0m\n\u001b[1;31mSyntaxError\u001b[0m\u001b[1;31m:\u001b[0m invalid syntax\n"
     ]
    }
   ],
   "source": [
    "#inner tol\n",
    "import numpy\n",
    "\n",
    "A = numpy.array([0, 1])\n",
    "B = numpy.array([3, 4])\n",
    "\n",
    "print numpy.inner(A, B)     #Output : 4"
   ]
  },
  {
   "cell_type": "code",
   "execution_count": 13,
   "id": "e5f48ead",
   "metadata": {},
   "outputs": [
    {
     "name": "stdout",
     "output_type": "stream",
     "text": [
      "0 1 \n",
      "2 3\n",
      "3\n",
      "[[0 0]\n",
      " [2 3]]\n"
     ]
    }
   ],
   "source": [
    "import numpy as np #0 1  2 3\n",
    "\n",
    "A=np.array(input().split() ,int)\n",
    "B=np.array(input().split() ,int)\n",
    "\n",
    "print(np.inner(A,B),np.outer(A,B),sep='\\n')\n"
   ]
  },
  {
   "cell_type": "markdown",
   "id": "c3b78fcd",
   "metadata": {},
   "source": [
    "poly\n",
    "\n",
    "The poly tool returns the coefficients of a polynomial with the given sequence of roots.\n",
    "\n",
    "print numpy.poly([-1, 1, 1, 10])        #Output : [  1 -11 9 11 -10] \n",
    "polyval:\n",
    "\n",
    "The polyval tool evaluates the polynomial at specific value.\n",
    "\n",
    "print numpy.polyval([1, -2, 0, 2], 4)   #Output : 34\n"
   ]
  },
  {
   "cell_type": "code",
   "execution_count": 14,
   "id": "bdb13723",
   "metadata": {},
   "outputs": [
    {
     "name": "stdout",
     "output_type": "stream",
     "text": [
      "1.1 2 3\n",
      "0\n",
      "3.0\n"
     ]
    }
   ],
   "source": [
    "#polynomial code #1.1 2 3 0\n",
    "import numpy\n",
    "\n",
    "poly_array=list(map(float,input().split()))\n",
    "value=int(input())\n",
    "\n",
    "print(numpy.polyval(poly_array,value))\n",
    "\n"
   ]
  },
  {
   "cell_type": "code",
   "execution_count": 15,
   "id": "14eeca80",
   "metadata": {},
   "outputs": [
    {
     "name": "stdout",
     "output_type": "stream",
     "text": [
      "2\n",
      "1.1 1.1\n",
      "1.1 1.1\n",
      "0.0\n"
     ]
    }
   ],
   "source": [
    "#determinat of matrix 2 1.1 1.1 1.1 1.1\n",
    "import numpy\n",
    "\n",
    "n=int(input())\n",
    "A=numpy.array([input().split() for _ in range(n)],float)\n",
    "print(numpy.linalg.det(A))\n",
    "\n",
    "\n"
   ]
  },
  {
   "cell_type": "code",
   "execution_count": null,
   "id": "3adf9703",
   "metadata": {},
   "outputs": [],
   "source": []
  }
 ],
 "metadata": {
  "kernelspec": {
   "display_name": "Python 3 (ipykernel)",
   "language": "python",
   "name": "python3"
  },
  "language_info": {
   "codemirror_mode": {
    "name": "ipython",
    "version": 3
   },
   "file_extension": ".py",
   "mimetype": "text/x-python",
   "name": "python",
   "nbconvert_exporter": "python",
   "pygments_lexer": "ipython3",
   "version": "3.9.7"
  }
 },
 "nbformat": 4,
 "nbformat_minor": 5
}
